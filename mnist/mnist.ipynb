{
 "cells": [
  {
   "cell_type": "code",
   "execution_count": 254,
   "id": "c604a4e9",
   "metadata": {},
   "outputs": [
    {
     "name": "stdout",
     "output_type": "stream",
     "text": [
      "Populating the interactive namespace from numpy and matplotlib\n"
     ]
    }
   ],
   "source": [
    "%pylab inline\n",
    "import numpy as np\n",
    "import math\n",
    "from tqdm import trange\n",
    "import code"
   ]
  },
  {
   "cell_type": "code",
   "execution_count": 117,
   "id": "5298057e",
   "metadata": {},
   "outputs": [],
   "source": [
    "import gzip\n",
    "import numpy as np\n",
    "import os\n",
    "import pathlib\n",
    "\n",
    "# modified from https://github.com/geohot/tinygrad/blob/master/datasets/__init__.py\n",
    "def load_mnist():\n",
    "    parse = lambda file: np.frombuffer(gzip.open(file).read(), dtype=np.uint8).copy()\n",
    "    mnist_dir = pathlib.Path('.').resolve() / 'data'\n",
    "    X_train = (\n",
    "        parse(mnist_dir / \"train-images-idx3-ubyte.gz\")[0x10:]\n",
    "        .reshape((-1, 28 * 28))\n",
    "        .astype(np.float32)\n",
    "    )\n",
    "    Y_train = parse(mnist_dir / \"train-labels-idx1-ubyte.gz\")[8:]\n",
    "    X_test = (\n",
    "        parse(mnist_dir / \"t10k-images-idx3-ubyte.gz\")[0x10:]\n",
    "        .reshape((-1, 28 * 28))\n",
    "        .astype(np.float32)\n",
    "    )\n",
    "    Y_test = parse(mnist_dir / \"t10k-labels-idx1-ubyte.gz\")[8:]\n",
    "    return X_train, Y_train, X_test, Y_test\n",
    "\n",
    "def encode_label(label: int):\n",
    "    return np.array([1 if n == label else 0 for n in range(10)])"
   ]
  },
  {
   "cell_type": "code",
   "execution_count": 118,
   "id": "de898691",
   "metadata": {},
   "outputs": [],
   "source": [
    "X_train, Y_train, X_test, Y_test = load_mnist()  \n",
    "# one hot encoding\n",
    "Y_train = np.array([encode_label(y) for y in Y_train])"
   ]
  },
  {
   "cell_type": "code",
   "execution_count": 290,
   "id": "1083ff8b",
   "metadata": {},
   "outputs": [],
   "source": [
    "def xavier_initialization(fan_in, fan_out):\n",
    "    scalar = math.sqrt(1.)\n",
    "    ret = np.random.uniform(low=-scalar, high=scalar, size=(fan_in,fan_out)) / np.sqrt(fan_in*fan_out)\n",
    "    return ret.astype(np.float32)\n",
    "\n"
   ]
  },
  {
   "cell_type": "code",
   "execution_count": 192,
   "id": "26b054e4",
   "metadata": {},
   "outputs": [],
   "source": [
    "\n",
    "def softmax_stable(x):\n",
    "    exp_element=np.exp(x-x.max())\n",
    "    return exp_element/np.sum(exp_element,axis=0)\n",
    "    #return(np.exp(x - np.max(x)) / np.exp(x - np.max(x)).sum(axis=0))\n",
    "\n",
    "def d_softmax(x):\n",
    "    exp_element=np.exp(x-x.max())\n",
    "    return exp_element/np.sum(exp_element,axis=0)*(1-exp_element/np.sum(exp_element,axis=0))\n",
    "\n",
    "def forward(input_vec,layer_1,layer_2):\n",
    "    # forward pass of a single sample (1x784) array\n",
    "    l1_out = input_vec.dot(layer_1)\n",
    "    tanh_1 = np.tanh(l1_out)\n",
    "    l2_out = tanh_1.dot(layer_2)\n",
    "    out_vec = softmax_stable(l2_out)\n",
    "    return out_vec\n",
    "    \n",
    "def cross_entropy_loss(predicted_vec, expected_vec):\n",
    "    return -1*(expected_vec * np.log(predicted_vec)).sum(axis=1)\n",
    "    \n",
    "def d_tanh(x):\n",
    "    return 1 - (x**2)\n",
    "    \n",
    "def sigmoid(x):\n",
    "    return 1/(np.exp(-x)+1)    \n",
    "\n",
    "def d_sigmoid(x):\n",
    "    return (np.exp(-x))/((np.exp(-x)+1)**2)\n",
    "\n",
    "def relu(x):\n",
    "    return np.maximum(x,0)\n",
    "\n",
    "def d_relu(x):\n",
    "    return (x > 0).astype(float32)\n"
   ]
  },
  {
   "cell_type": "code",
   "execution_count": 282,
   "id": "f6a34dbb",
   "metadata": {},
   "outputs": [],
   "source": [
    "# code.interact(local=locas())\n",
    "def shitty_conv2d(input_vec, conv_layer, stride:int , zero_padding: int):\n",
    "    # input_vec: (width x height x depth)\n",
    "    # conv_layer: (width x height x depth x num_filters)\n",
    "    # stride: int\n",
    "    # zero_padding: int\n",
    "    #\n",
    "    # out: (w x h x num_filters)\n",
    "    width,height,_ = input_vec.shape\n",
    "    filter_size,_,_,num_filters = conv_layer.shape\n",
    "    w = width if zero_padding else width - 2*zero_padding\n",
    "    h = height if zero_padding else height - 2*zero_padding\n",
    "    \n",
    "    r = (filter_size - 1) // 2\n",
    "    padded_input = np.pad(input_vec, r, mode='constant')\n",
    "    \n",
    "    out = np.zeros(w,h,num_filters)\n",
    "    \n",
    "    for num_filt in range(num_filters):\n",
    "        for i in range(w):\n",
    "            for j in range(h):\n",
    "                out[i,j,num_filt] = np.sum(padded_input[(i-r):(i+r),(j-r):(j+r),:]*conv_layer[i,j,:,num_filt])\n",
    "    \n",
    "    return out\n",
    "\n",
    "\n",
    "def get_gradient(x_batch, y_batch, layer_1, layer_2, conv=False):\n",
    "    l1_out = x_batch.dot(layer_1)\n",
    "    tanh_1 = np.tanh(l1_out)\n",
    "    l2_out = tanh_1.dot(layer_2)\n",
    "    out = softmax_stable(l2_out)\n",
    "    loss=cross_entropy_loss(out,y_batch).mean()\n",
    "\n",
    "    d_loss = (out - y_batch) / (y_batch.shape[0]) \n",
    "    \n",
    "    d_out_vec = d_softmax(d_loss)*d_loss \n",
    "\n",
    "    d_l2 = (tanh_1.T.dot(d_out_vec))\n",
    "\n",
    "    d_tanh = d_out_vec.dot(layer_2.T)\n",
    "    dx_l1_out = (1-tanh_1**2) * d_tanh\n",
    "\n",
    "    d_l1_out = x_batch.T.dot(dx_l1_out)\n",
    "    return loss,d_l1_out,d_l2,out\n"
   ]
  },
  {
   "cell_type": "code",
   "execution_count": 246,
   "id": "e259ebcd",
   "metadata": {},
   "outputs": [],
   "source": [
    "\n",
    "def train(X_train, Y_train, layer_1, layer_2, BATCH_SIZE=64, epochs=100, lr=0.001, mu=0.90):\n",
    "    losses = []\n",
    "    accuracies = []\n",
    "    v1 =0\n",
    "    v2 =0\n",
    "    for i in (t := trange(epochs)):\n",
    "        batch_indices = np.random.randint(0,X_train.shape[0], size=(BATCH_SIZE))\n",
    "\n",
    "        loss, d_l1, d_l2, out = get_gradient(X_train[batch_indices],Y_train[batch_indices],layer_1,layer_2)\n",
    "        \n",
    "        test_maxes = np.argmax(out,axis=1)\n",
    "        label_maxes = np.argmax(Y_train[batch_indices],axis=1)\n",
    "        accuracy = (test_maxes == label_maxes).mean()\n",
    "        \n",
    "        v1 = mu * v1 - lr * d_l1\n",
    "        v2 = mu * v2 - lr * d_l2\n",
    "        layer_1 = layer_1 + v1\n",
    "        layer_2 = layer_2 + v2 \n",
    "#         layer_1 = layer_1 - lr*d_l1\n",
    "#         layer_2 = layer_2 - lr*d_l2\n",
    "\n",
    "        t.set_description(f'loss: {loss}, accuracy: {accuracy*100}%')\n",
    "        losses.append(loss)\n",
    "        accuracies.append(accuracy)\n",
    "    return layer_1,layer_2,losses,accuracies"
   ]
  },
  {
   "cell_type": "code",
   "execution_count": 291,
   "id": "24b270b2",
   "metadata": {},
   "outputs": [
    {
     "name": "stderr",
     "output_type": "stream",
     "text": [
      "loss: 3.898968715808485, accuracy: 90.625%: 100%|███████████████████████████████████████████████| 1000/1000 [00:03<00:00, 305.29it/s]\n"
     ]
    },
    {
     "name": "stdout",
     "output_type": "stream",
     "text": [
      "7 7\n"
     ]
    },
    {
     "data": {
      "text/plain": [
       "[<matplotlib.lines.Line2D at 0x7fd8091059d0>]"
      ]
     },
     "execution_count": 291,
     "metadata": {},
     "output_type": "execute_result"
    },
    {
     "data": {
      "image/png": "[encoded data removed]",
      "text/plain": [
       "<Figure size 640x480 with 1 Axes>"
      ]
     },
     "metadata": {},
     "output_type": "display_data"
    }
   ],
   "source": [
    "BATCH_SIZE = 128\n",
    "layer_1 = xavier_initialization(784,128)\n",
    "layer_2 = xavier_initialization(128,10)\n",
    "\n",
    "layer_1,layer_2,losses,accuracies = train(X_train,Y_train,layer_1,layer_2,BATCH_SIZE,1000)\n",
    "\n",
    "test1 = forward(X_test[0],layer_1,layer_2)\n",
    "print(np.argmax(test1), Y_test[0])\n",
    "\n",
    "#imshow(X_test[0].reshape(28,28))\n",
    "plt.ylim(-0.1, 1.1)\n",
    "plot(losses)\n",
    "plot(accuracies)"
   ]
  },
  {
   "cell_type": "code",
   "execution_count": 292,
   "id": "fe100a8e",
   "metadata": {},
   "outputs": [
    {
     "name": "stdout",
     "output_type": "stream",
     "text": [
      "0.8631\n"
     ]
    }
   ],
   "source": [
    "test_predictions = np.argmax(forward(X_test,layer_1,layer_2),axis=1)\n",
    "acc = (test_predictions == Y_test).mean()\n",
    "print(acc)"
   ]
  },
  {
   "cell_type": "code",
   "execution_count": 249,
   "id": "d57202e5",
   "metadata": {},
   "outputs": [
    {
     "data": {
      "text/plain": [
       "[<matplotlib.lines.Line2D at 0x7fd83d6c0df0>]"
      ]
     },
     "execution_count": 249,
     "metadata": {},
     "output_type": "execute_result"
    },
    {
     "data": {
      "image/png": "[encoded data removed]",
      "text/plain": [
       "<Figure size 640x480 with 1 Axes>"
      ]
     },
     "metadata": {},
     "output_type": "display_data"
    }
   ],
   "source": [
    "plot(losses)"
   ]
  },
  {
   "cell_type": "code",
   "execution_count": null,
   "id": "b141ada7",
   "metadata": {},
   "outputs": [],
   "source": []
  },
  {
   "cell_type": "code",
   "execution_count": 280,
   "id": "4874fa54",
   "metadata": {},
   "outputs": [
    {
     "data": {
      "text/plain": [
       "array([[[6, 6, 6, 6, 6],\n",
       "        [6, 6, 6, 6, 6],\n",
       "        [6, 6, 6, 6, 6]],\n",
       "\n",
       "       [[6, 6, 6, 6, 6],\n",
       "        [6, 6, 6, 6, 6],\n",
       "        [6, 6, 6, 6, 6]],\n",
       "\n",
       "       [[6, 6, 6, 6, 6],\n",
       "        [6, 6, 6, 6, 6],\n",
       "        [6, 6, 6, 6, 6]]])"
      ]
     },
     "execution_count": 280,
     "metadata": {},
     "output_type": "execute_result"
    }
   ],
   "source": []
  },
  {
   "cell_type": "code",
   "execution_count": 272,
   "id": "e14a5aae",
   "metadata": {},
   "outputs": [
    {
     "data": {
      "text/plain": [
       "array([], dtype=int64)"
      ]
     },
     "execution_count": 272,
     "metadata": {},
     "output_type": "execute_result"
    }
   ],
   "source": []
  },
  {
   "cell_type": "code",
   "execution_count": null,
   "id": "c203432e",
   "metadata": {},
   "outputs": [],
   "source": []
  }
 ],
 "metadata": {
  "kernelspec": {
   "display_name": "Python 3 (ipykernel)",
   "language": "python",
   "name": "python3"
  },
  "language_info": {
   "codemirror_mode": {
    "name": "ipython",
    "version": 3
   },
   "file_extension": ".py",
   "mimetype": "text/x-python",
   "name": "python",
   "nbconvert_exporter": "python",
   "pygments_lexer": "ipython3",
   "version": "3.8.13"
  }
 },
 "nbformat": 4,
 "nbformat_minor": 5
}
